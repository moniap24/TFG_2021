{
 "cells": [
  {
   "cell_type": "markdown",
   "metadata": {},
   "source": [
    "# DEMO"
   ]
  },
  {
   "cell_type": "code",
   "execution_count": 5,
   "metadata": {},
   "outputs": [
    {
     "data": {
      "application/vnd.jupyter.widget-view+json": {
       "model_id": "6d40be69306b4cb484f4e0ecc2d97d1c",
       "version_major": 2,
       "version_minor": 0
      },
      "text/plain": [
       "Canvas(toolbar=Toolbar(toolitems=[('Home', 'Reset original view', 'home', 'home'), ('Back', 'Back to previous …"
      ]
     },
     "metadata": {},
     "output_type": "display_data"
    }
   ],
   "source": [
    "%matplotlib widget #Ventana emergente\n",
    "#%matplotlib qt #Resultados en el notebook\n",
    "\n",
    "import matplotlib.pyplot as plt\n",
    "import pandas as pd\n",
    "import imshowpair\n",
    "\n",
    "def load_image(path):\n",
    "    return np.array(Image.open(path))\n",
    "\n",
    "image1 = load_image('/Users/monica/Documents/TFG/SRGAN/Imgs_Test_QGIS/PNOA_MA/LR/256x256/PNOA_MA_Construcciones_Invernaderos_256x256.png')\n",
    "image2 = load_image('/Users/monica/Documents/TFG/SRGAN/Imgs_Test_QGIS/PNOA_MA/LR/cv2/PNOA_MA_Construcciones_Invernaderos_256x256.png')\n",
    "\n",
    "\n",
    "imshowpair.imshowpair(image1,image2)"
   ]
  }
 ],
 "metadata": {
  "kernelspec": {
   "display_name": "Python 3",
   "language": "python",
   "name": "python3"
  },
  "language_info": {
   "codemirror_mode": {
    "name": "ipython",
    "version": 3
   },
   "file_extension": ".py",
   "mimetype": "text/x-python",
   "name": "python",
   "nbconvert_exporter": "python",
   "pygments_lexer": "ipython3",
   "version": "3.8.2"
  }
 },
 "nbformat": 4,
 "nbformat_minor": 4
}
